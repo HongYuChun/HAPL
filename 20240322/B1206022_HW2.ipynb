{
  "nbformat": 4,
  "nbformat_minor": 0,
  "metadata": {
    "colab": {
      "provenance": []
    },
    "kernelspec": {
      "name": "python3",
      "display_name": "Python 3"
    },
    "language_info": {
      "name": "python"
    }
  },
  "cells": [
    {
      "cell_type": "code",
      "source": [
        "a='C,B,A'\n",
        "c=a.split(',')\n",
        "b=['F','G','H']\n",
        "d=c+b\n",
        "d[0]='K'\n",
        "print(\"第三個元素:\",d[2])\n",
        "del d[1:4]\n",
        "d.append(\"U\")\n",
        "print('最終結果:',d)"
      ],
      "metadata": {
        "colab": {
          "base_uri": "https://localhost:8080/"
        },
        "id": "78q1ahNHx7ho",
        "outputId": "01a9e100-c39f-432e-9929-fe93d4abec54"
      },
      "execution_count": 21,
      "outputs": [
        {
          "output_type": "stream",
          "name": "stdout",
          "text": [
            "第三個元素: A\n",
            "最終結果: ['K', 'G', 'H', 'U']\n"
          ]
        }
      ]
    },
    {
      "cell_type": "code",
      "source": [
        "a='12345678'\n",
        "print(a[4])"
      ],
      "metadata": {
        "colab": {
          "base_uri": "https://localhost:8080/"
        },
        "id": "pFGP-wnPRtr6",
        "outputId": "0e0461bc-4752-42d6-8244-fa16ca116fb5"
      },
      "execution_count": 24,
      "outputs": [
        {
          "output_type": "stream",
          "name": "stdout",
          "text": [
            "5\n"
          ]
        }
      ]
    },
    {
      "cell_type": "code",
      "source": [
        "a='My ID is B1206022.'\n",
        "b=a.split()\n",
        "print(len(b))\n",
        "print(len(a[9:-1]))"
      ],
      "metadata": {
        "colab": {
          "base_uri": "https://localhost:8080/"
        },
        "id": "GbyZWv0As2X8",
        "outputId": "d062825f-7900-4500-ce8e-3c9d3b3a5205"
      },
      "execution_count": null,
      "outputs": [
        {
          "output_type": "stream",
          "name": "stdout",
          "text": [
            "4\n",
            "8\n"
          ]
        }
      ]
    },
    {
      "cell_type": "code",
      "execution_count": null,
      "metadata": {
        "colab": {
          "base_uri": "https://localhost:8080/"
        },
        "id": "oDMJUj4fscA2",
        "outputId": "6c2f0d80-e4cf-4d0c-906e-07bfc263ada0"
      },
      "outputs": [
        {
          "output_type": "stream",
          "name": "stdout",
          "text": [
            "m\n"
          ]
        }
      ],
      "source": [
        "a=\"I'm a student.\"\n",
        "print(a[2])"
      ]
    }
  ]
}