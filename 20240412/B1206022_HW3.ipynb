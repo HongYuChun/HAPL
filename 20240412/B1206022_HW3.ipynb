{
  "nbformat": 4,
  "nbformat_minor": 0,
  "metadata": {
    "colab": {
      "provenance": []
    },
    "kernelspec": {
      "name": "python3",
      "display_name": "Python 3"
    },
    "language_info": {
      "name": "python"
    }
  },
  "cells": [
    {
      "cell_type": "code",
      "execution_count": null,
      "metadata": {
        "colab": {
          "base_uri": "https://localhost:8080/"
        },
        "id": "GWli7oAYD8Ch",
        "outputId": "dbd69105-d1e7-4c59-e42b-2dc61b866d14"
      },
      "outputs": [
        {
          "output_type": "stream",
          "name": "stdout",
          "text": [
            "請輸入一個年份:1999\n",
            "1999 是平年\n"
          ]
        }
      ],
      "source": [
        "year=int(input(\"請輸入一個年份:\"))\n",
        "if year<=1582:\n",
        "  result=year%4==0\n",
        "else:\n",
        "  result=(year%4==0 and year%100!=0)or(year%400==0)\n",
        "if result:\n",
        "  print(year,\"是閏年\")\n",
        "else:\n",
        "  print(year,\"是平年\")"
      ]
    },
    {
      "cell_type": "code",
      "source": [
        "year=int(input(\"請輸入一個年份:\"))\n",
        "if year<=1582:\n",
        "  result=year%4==0\n",
        "else:\n",
        "  result=(year%4==0 and year%100!=0)or(year%400==0)\n",
        "if result:\n",
        "  print(year,\"是閏年\")\n",
        "else:\n",
        "  print(year,\"是平年\")"
      ],
      "metadata": {
        "colab": {
          "base_uri": "https://localhost:8080/"
        },
        "id": "D-8_axjnG2yZ",
        "outputId": "395d1355-3547-4143-e8e9-0336addf05c9"
      },
      "execution_count": 4,
      "outputs": [
        {
          "output_type": "stream",
          "name": "stdout",
          "text": [
            "請輸入一個年份:2000\n",
            "2000 是閏年\n"
          ]
        }
      ]
    }
  ]
}