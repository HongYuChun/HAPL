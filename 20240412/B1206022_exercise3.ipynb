{
  "nbformat": 4,
  "nbformat_minor": 0,
  "metadata": {
    "colab": {
      "provenance": []
    },
    "kernelspec": {
      "name": "python3",
      "display_name": "Python 3"
    },
    "language_info": {
      "name": "python"
    }
  },
  "cells": [
    {
      "cell_type": "code",
      "source": [
        "h=float(input(\"請輸入身高(cm):\"))/100\n",
        "w=float(input(\"請輸入體重(kg):\"))\n",
        "bmi=w/(h*h)\n",
        "print(\"bmi：\",bmi)\n",
        "if bmi<18.5:\n",
        "  print(\"體位:過輕\")\n",
        "elif 18.5<=bmi and bmi<24:\n",
        "  print(\"體位:適中\")\n",
        "elif 24<=bmi and bmi<27:\n",
        "  print(\"體位:過重\")\n",
        "else:\n",
        "  print(\"體位:肥胖\")\n"
      ],
      "metadata": {
        "id": "IQec8dwM0Hkt",
        "colab": {
          "base_uri": "https://localhost:8080/"
        },
        "outputId": "83979502-478c-4d52-c176-d88214d56e99"
      },
      "execution_count": null,
      "outputs": [
        {
          "output_type": "stream",
          "name": "stdout",
          "text": [
            "請輸入身高(cm):160\n",
            "請輸入體重(kg):55\n",
            "bmi： 21.484374999999996\n",
            "體位:適中\n"
          ]
        }
      ]
    },
    {
      "cell_type": "code",
      "source": [
        "a=float(input(\"請輸入第一個數字:\"))\n",
        "b=input(\"請輸入運算符號:\")\n",
        "c=float(input(\"請輸入第二個數字:\"))\n",
        "if b=='+':\n",
        "  result=a+c\n",
        "elif b=='-':\n",
        "  result=a-c\n",
        "elif b=='*':\n",
        "  result=a*c\n",
        "elif b=='/':\n",
        "  result=a/c\n",
        "print(result)"
      ],
      "metadata": {
        "colab": {
          "base_uri": "https://localhost:8080/"
        },
        "id": "PI6Z7PhQ6Q13",
        "outputId": "652c27d9-7acf-429c-e13b-87461e736d11"
      },
      "execution_count": null,
      "outputs": [
        {
          "output_type": "stream",
          "name": "stdout",
          "text": [
            "請輸入第一個數字:5\n",
            "請輸入運算符號:+\n",
            "請輸入第二個數字:4\n",
            "9.0\n"
          ]
        }
      ]
    }
  ]
}