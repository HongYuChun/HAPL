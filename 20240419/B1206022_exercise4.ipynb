{
  "nbformat": 4,
  "nbformat_minor": 0,
  "metadata": {
    "colab": {
      "provenance": []
    },
    "kernelspec": {
      "name": "python3",
      "display_name": "Python 3"
    },
    "language_info": {
      "name": "python"
    }
  },
  "cells": [
    {
      "cell_type": "code",
      "source": [
        "for a in range(1,10):\n",
        "  for b in range(1,10):\n",
        "    print(f\"{a}×{b}={a*b}\",end='\\t')\n",
        "  print()"
      ],
      "metadata": {
        "colab": {
          "base_uri": "https://localhost:8080/"
        },
        "id": "8yDkiR7m5i5x",
        "outputId": "944884a6-229e-4734-dbaa-fc7cad4c4646"
      },
      "execution_count": null,
      "outputs": [
        {
          "output_type": "stream",
          "name": "stdout",
          "text": [
            "1×1=1\t1×2=2\t1×3=3\t1×4=4\t1×5=5\t1×6=6\t1×7=7\t1×8=8\t1×9=9\t\n",
            "2×1=2\t2×2=4\t2×3=6\t2×4=8\t2×5=10\t2×6=12\t2×7=14\t2×8=16\t2×9=18\t\n",
            "3×1=3\t3×2=6\t3×3=9\t3×4=12\t3×5=15\t3×6=18\t3×7=21\t3×8=24\t3×9=27\t\n",
            "4×1=4\t4×2=8\t4×3=12\t4×4=16\t4×5=20\t4×6=24\t4×7=28\t4×8=32\t4×9=36\t\n",
            "5×1=5\t5×2=10\t5×3=15\t5×4=20\t5×5=25\t5×6=30\t5×7=35\t5×8=40\t5×9=45\t\n",
            "6×1=6\t6×2=12\t6×3=18\t6×4=24\t6×5=30\t6×6=36\t6×7=42\t6×8=48\t6×9=54\t\n",
            "7×1=7\t7×2=14\t7×3=21\t7×4=28\t7×5=35\t7×6=42\t7×7=49\t7×8=56\t7×9=63\t\n",
            "8×1=8\t8×2=16\t8×3=24\t8×4=32\t8×5=40\t8×6=48\t8×7=56\t8×8=64\t8×9=72\t\n",
            "9×1=9\t9×2=18\t9×3=27\t9×4=36\t9×5=45\t9×6=54\t9×7=63\t9×8=72\t9×9=81\t\n"
          ]
        }
      ]
    },
    {
      "cell_type": "code",
      "source": [
        "height = 9\n",
        "trunk_width = 3\n",
        "trunk_height = 5\n",
        "for i in range(1,height+1):\n",
        "  print(\" \"*(height-i)+\"*\"*(2*i-1))\n",
        "trunk=\"*\"* trunk_width\n",
        "for i in range (trunk_height):\n",
        "  print(f\"{trunk:^{2*height}}\")"
      ],
      "metadata": {
        "colab": {
          "base_uri": "https://localhost:8080/"
        },
        "id": "OsZEkdlCIYcQ",
        "outputId": "b8def6f4-904f-4a85-ef02-8fad5c5678aa"
      },
      "execution_count": 54,
      "outputs": [
        {
          "output_type": "stream",
          "name": "stdout",
          "text": [
            "        *\n",
            "       ***\n",
            "      *****\n",
            "     *******\n",
            "    *********\n",
            "   ***********\n",
            "  *************\n",
            " ***************\n",
            "*****************\n",
            "       ***        \n",
            "       ***        \n",
            "       ***        \n",
            "       ***        \n",
            "       ***        \n"
          ]
        }
      ]
    }
  ]
}