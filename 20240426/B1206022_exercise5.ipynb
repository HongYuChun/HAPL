{
  "nbformat": 4,
  "nbformat_minor": 0,
  "metadata": {
    "colab": {
      "provenance": []
    },
    "kernelspec": {
      "name": "python3",
      "display_name": "Python 3"
    },
    "language_info": {
      "name": "python"
    }
  },
  "cells": [
    {
      "cell_type": "code",
      "source": [
        "i=1\n",
        "while i<=9:\n",
        "  j=1\n",
        "  while j<=9:\n",
        "    print(f\"{j}*{i}={i*j}\",end=\"\\t\")\n",
        "    j+=1\n",
        "  print()\n",
        "  i+=1"
      ],
      "metadata": {
        "colab": {
          "base_uri": "https://localhost:8080/"
        },
        "id": "A5T_Oxbh6dn3",
        "outputId": "84fb92cb-40cd-455f-c9e3-720b577b451e"
      },
      "execution_count": 8,
      "outputs": [
        {
          "output_type": "stream",
          "name": "stdout",
          "text": [
            "1*1=1\t2*1=2\t3*1=3\t4*1=4\t5*1=5\t6*1=6\t7*1=7\t8*1=8\t9*1=9\t\n",
            "1*2=2\t2*2=4\t3*2=6\t4*2=8\t5*2=10\t6*2=12\t7*2=14\t8*2=16\t9*2=18\t\n",
            "1*3=3\t2*3=6\t3*3=9\t4*3=12\t5*3=15\t6*3=18\t7*3=21\t8*3=24\t9*3=27\t\n",
            "1*4=4\t2*4=8\t3*4=12\t4*4=16\t5*4=20\t6*4=24\t7*4=28\t8*4=32\t9*4=36\t\n",
            "1*5=5\t2*5=10\t3*5=15\t4*5=20\t5*5=25\t6*5=30\t7*5=35\t8*5=40\t9*5=45\t\n",
            "1*6=6\t2*6=12\t3*6=18\t4*6=24\t5*6=30\t6*6=36\t7*6=42\t8*6=48\t9*6=54\t\n",
            "1*7=7\t2*7=14\t3*7=21\t4*7=28\t5*7=35\t6*7=42\t7*7=49\t8*7=56\t9*7=63\t\n",
            "1*8=8\t2*8=16\t3*8=24\t4*8=32\t5*8=40\t6*8=48\t7*8=56\t8*8=64\t9*8=72\t\n",
            "1*9=9\t2*9=18\t3*9=27\t4*9=36\t5*9=45\t6*9=54\t7*9=63\t8*9=72\t9*9=81\t\n"
          ]
        }
      ]
    },
    {
      "cell_type": "code",
      "source": [
        "import random\n",
        "answer=random.sample(range(1,10),4)\n",
        "print(\"answer:\",answer)\n",
        "user=list(input('請輸入四個不重複的數字:'))\n",
        "A=B=N=0\n",
        "num=0\n",
        "if len(user)!=4:\n",
        "  (print('輸入數字過多，請輸入四個不重複的數字:'))\n",
        "A=0\n",
        "num=0\n",
        "while A!=4:\n",
        "  num+=1\n",
        "  A=B=N=0\n",
        "  user=list(input('請輸入四個不重複的數字:'))\n",
        "  for i in user:\n",
        "    if int(user[N])==answer[N]:\n",
        "      A+=1\n",
        "    else:\n",
        "      if int(i) in answer:\n",
        "        B+=1\n",
        "    N+=1\n",
        "  output=','.join(user).replace(',','')\n",
        "  print(f'{output}:{A}A{B}B')\n",
        "print(f'答對了！總共猜了{num}次')"
      ],
      "metadata": {
        "colab": {
          "base_uri": "https://localhost:8080/"
        },
        "id": "lfM00wYk8SZJ",
        "outputId": "db052a0a-6840-4b8b-c9d5-299a977c9131"
      },
      "execution_count": 7,
      "outputs": [
        {
          "output_type": "stream",
          "name": "stdout",
          "text": [
            "answer: [7, 4, 8, 3]\n",
            "請輸入四個不重複的數字:12345\n",
            "輸入數字過多，請輸入四個不重複的數字:\n",
            "請輸入四個不重複的數字:1234\n",
            "1234:0A2B\n",
            "請輸入四個不重複的數字:2345\n",
            "2345:0A2B\n",
            "請輸入四個不重複的數字:6478\n",
            "6478:1A2B\n",
            "請輸入四個不重複的數字:7492\n",
            "7492:2A0B\n",
            "請輸入四個不重複的數字:7483\n",
            "7483:4A0B\n",
            "答對了！總共猜了5次\n"
          ]
        }
      ]
    }
  ]
}