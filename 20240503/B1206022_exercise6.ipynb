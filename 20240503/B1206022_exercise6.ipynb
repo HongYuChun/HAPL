{
  "nbformat": 4,
  "nbformat_minor": 0,
  "metadata": {
    "colab": {
      "provenance": []
    },
    "kernelspec": {
      "name": "python3",
      "display_name": "Python 3"
    },
    "language_info": {
      "name": "python"
    }
  },
  "cells": [
    {
      "cell_type": "code",
      "source": [
        "def a(height):\n",
        "    tree = \"\"\n",
        "\n",
        "    for i in range(1, height+1):\n",
        "        if i == 1:\n",
        "            tree += \" \"*(height-1) + \"*\" + \"\\n\"\n",
        "        else:\n",
        "            tree += \" \"*(height-i) + \"*\"*(2*i-1) + \"\\n\"\n",
        "\n",
        "    trunk_height = 5\n",
        "    trunk_width = 3\n",
        "    trunk_position = height - trunk_width // 2\n",
        "    for _ in range(trunk_height):\n",
        "        tree += \" \"*(trunk_position) + \"*\"*(trunk_width) + \" \"*(trunk_position) + \"\\n\"\n",
        "    return tree\n",
        "\n",
        "tree_height = int(input(\"請輸入聖誕樹高度: \"))\n",
        "christmas_tree = a(tree_height)\n",
        "print(christmas_tree, end=\"\")\n"
      ],
      "metadata": {
        "colab": {
          "base_uri": "https://localhost:8080/"
        },
        "id": "q7xIKl953x3c",
        "outputId": "05bbdf34-4738-44e9-95cc-204d6fb35573"
      },
      "execution_count": 13,
      "outputs": [
        {
          "output_type": "stream",
          "name": "stdout",
          "text": [
            "請輸入聖誕樹高度: 12\n",
            "           *\n",
            "          ***\n",
            "         *****\n",
            "        *******\n",
            "       *********\n",
            "      ***********\n",
            "     *************\n",
            "    ***************\n",
            "   *****************\n",
            "  *******************\n",
            " *********************\n",
            "***********************\n",
            "           ***           \n",
            "           ***           \n",
            "           ***           \n",
            "           ***           \n",
            "           ***           \n"
          ]
        }
      ]
    },
    {
      "cell_type": "code",
      "source": [
        "def calculate_bmi(height,weight):\n",
        "    if bmi<18.5:\n",
        "      result=(\"體位:過輕\")\n",
        "    elif 18.5<=bmi and bmi<24:\n",
        "      result=(\"體位:適中\")\n",
        "    elif 24<=bmi and bmi<27:\n",
        "      result=(\"體位:過重\")\n",
        "    else:\n",
        "      result=(\"體位:肥胖\")\n",
        "    return bmi,result\n",
        "try:\n",
        "  height=(input(\"請輸入身高(cm):\"))\n",
        "  weight=(input(\"請輸入體重(kg):\"))\n",
        "  height=float(height)/100\n",
        "  weight=float(weight)\n",
        "  bmi=weight/(height*height)\n",
        "  bmi_result = calculate_bmi(height, weight)\n",
        "  print(bmi_result)\n",
        "except:\n",
        "  print(\"輸入內容錯誤\")\n"
      ],
      "metadata": {
        "colab": {
          "base_uri": "https://localhost:8080/"
        },
        "id": "7FzT1S7sMXpY",
        "outputId": "4c7a1c62-17aa-4cd8-df6b-007abf58e3eb"
      },
      "execution_count": 21,
      "outputs": [
        {
          "output_type": "stream",
          "name": "stdout",
          "text": [
            "請輸入身高(cm):155\n",
            "請輸入體重(kg):55\n",
            "(22.892819979188342, '體位:適中')\n"
          ]
        }
      ]
    }
  ]
}